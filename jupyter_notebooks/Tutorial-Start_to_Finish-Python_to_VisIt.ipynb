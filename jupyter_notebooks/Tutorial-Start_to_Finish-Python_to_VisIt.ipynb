{
 "cells": [
  {
   "cell_type": "markdown",
   "id": "1bded43a",
   "metadata": {},
   "source": [
    "# Black Holes At Home Tutorial: Python to Visit\n",
    "\n",
    "## Author: Tyndale Stutzman\n",
    "\n",
    "## This tutorial demonstrates how to render a spherical mesh in Visit via Python\n",
    "\n",
    "## Introduction: \n",
    "\n",
    "By using Python in conjunction with the VisIt visualization software, plots, rendering, and preferences can all be automated with the visit python library; either through the CLI, or a script. This both saves time and provides access to key attributes of plots, that would otherwise be restrictively displayed in the GUI, such as assigning variables to columns of a CSV file. This tutorial provides the necessary steps to verify proper interfacing between VisIt and Python through an example of rendering a sphere from mesh data. \n",
    "\n",
    "### Troubleshooting\n",
    "\n",
    "Troubleshooting issues with the VisIt python library can be cumbersome given the software's generic name, however, [this PDF](https://www.princeton.edu/~efeibush/viscourse/VisItPythonManual.pdf) provides axhaustive documentation of nearly all functions in the library. If an issue persists, try assigning a letter to a function and calling the letter. For isntance, to display all possible arguments of `visit.MeshAttributes()` type `m = visit.MeshAttributes()` followed by `print(m)` into the python interpreter.\n",
    "\n",
    "###### *This notebook is very much in progress"
   ]
  },
  {
   "cell_type": "markdown",
   "id": "dacb422e",
   "metadata": {},
   "source": [
    "<a id='toc'></a>\n",
    "# Table of Contents:\n",
    "$$\\label{toc}$$\n",
    "<!--these buttons aren't functioning properly so maybe figure that out-->\n",
    "1. [Step 1](#installing_visit): Installing VisIt\n",
    "    1. [1.1](#windows): Windows\n",
    "    1. [1.2](#osx/gnu): OSX/GNU\n",
    "1. [Step 2](#gen): Generate spherical mesh\n",
    "1. [Step 3](#run): Python to VisIt\n",
    "    1. [3.1](#load): Load the VisIt module\n",
    "    1. [3.2](#database&plot): Load the database and plot\n",
    "1. [Step 4](#tune): Fine Tuning Visit\n",
    "1. [Step 5](#conclusion): Conclusion"
   ]
  },
  {
   "cell_type": "markdown",
   "id": "0cdb251c",
   "metadata": {},
   "source": [
    "<a id='installing_visit'></a>\n",
    "# Step 1: Installing VisIt\n",
    "$$\\label{installing_visit}$$\n"
   ]
  }
 ],
 "metadata": {
  "kernelspec": {
   "display_name": "Python 3 (ipykernel)",
   "language": "python",
   "name": "python3"
  },
  "language_info": {
   "codemirror_mode": {
    "name": "ipython",
    "version": 3
   },
   "file_extension": ".py",
   "mimetype": "text/x-python",
   "name": "python",
   "nbconvert_exporter": "python",
   "pygments_lexer": "ipython3",
   "version": "3.9.13"
  }
 },
 "nbformat": 4,
 "nbformat_minor": 5
}
