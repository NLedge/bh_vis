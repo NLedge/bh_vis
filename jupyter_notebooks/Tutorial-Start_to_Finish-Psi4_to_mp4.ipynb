{
 "cells": [
  {
   "cell_type": "markdown",
   "id": "1bded43a",
   "metadata": {},
   "source": [
    "# Start to Finish Example: BBH Merger From $\\psi_4$ Data to MP4 Movie\n",
    "\n",
    "## Author: Tyndale Stutzman, Seth Winchell\n",
    "\n",
    "## This tutorial provides an overview of how to take primitive binary black hole merger data ($\\psi_4$) and visualize it as an MP4 movie.\n",
    "\n",
    "## Introduction: \n",
    "\n",
    "Among a plethora of data produced by the Black Holes At Home (BH@H) project, $\\psi_4$ data is the most valuable for visualization purposes as it contains information regarding gravitational wave strain, $\\textit{h}$. The purpose of this notebook is to provide a general example of extracting $\\textit{h}$ from $\\psi_4$, creating a series of meshes, and finally animating these meshes along with their constituent black holes in a final, downloadable movie that can then be edited in post. As such, this tutorial is not in depth, however, links to more detailed notebooks can be found in certain sections. \n",
    "\n",
    "<!-- note to anyone reading this... do we need more of a casual introduction here? How much do we talk about it vs diving in? Thanks. -->\n",
    "\n",
    "### Prerequisites:\n",
    "\n",
    "Before continuing in this tutorial, if you do not already have VisIt installed on your local system, refer to [**Tutorial_BlackHolesAtHome_PythonToVisIt**](Tutorial_BlackHolesAtHome_PythonToVisIt.ipynb) for a guide to setting up VisIt and interfacing via Python. \n",
    "\n",
    "### Recommended:\n",
    "\n",
    "While the following references are not critical to producing a movie given BH@H data, they provide valuable insight into the underlying concepts behind each step in this overview. <!-- redundant? -->\n",
    "\n",
    "<!-- stupid question but I'm assuming I can't use visit all packaged up in the notebook, right? -->\n",
    "\n",
    "###### *This notebook is very much in progress"
   ]
  },
  {
   "cell_type": "markdown",
   "id": "dacb422e",
   "metadata": {},
   "source": [
    "<a id='toc'></a>\n",
    "# Table of Contents:\n",
    "$$\\label{toc}$$\n",
    "<!--these buttons aren't functioning properly so maybe figure that out-->\n",
    "1. [Step 1](#psi4_to_h): Extracting $\\textit{h}$ from $\\psi_4$\n",
    "    1. [1.1](#diff): Differentiation\n",
    "    1. [1.2](#fft): Performing Fast Fourier Transform\n",
    "1. [Step 2](#mesh_gen): Generate gravitational wave mesh\n",
    "1. [Step 3](#sync): Synchronize mesh with black hole trajectories\n",
    "1. [Step 4](#animate): Animate gravitational wave meshes\n",
    "    1. [4.1](#render): Render meshes and black holes\n",
    "    1. [4.2](#pan): Pan Camera <!-- maybe this shouldn't be a feature of the example? -->\n",
    "    1. [4.3](#ffmpeg): Compile frames with FFMPEG\n",
    "1. [Step 5](#conclusion): Conclusion\n",
    "1. [Step 6](#latex_pdf_output): Output this notebook to $\\LaTeX$-formatted PDF file"
   ]
  },
  {
   "cell_type": "markdown",
   "id": "7cf3dc64",
   "metadata": {},
   "source": [
    "<a id='psi4_to_h'></a>\n",
    "\n",
    "# Step 1: Extracting $\\textit{h}$ from $\\psi_4$ \\[Back to [top](#toc)\\]\n",
    "$$\\label{psi4_to_h}$$\n",
    "\n",
    "In order to process $\\psi_4$ into a form that can be visualized, the gravitational wave strain, $\\textit{h}$, must first be extracted. Given the complex information encoded into $\\psi_4$, details such as the gravitational wave's amplitude and frequency, for instance, are not readily available. To gain this vital information... [brief overview here]"
   ]
  },
  {
   "cell_type": "markdown",
   "id": "376b4f19",
   "metadata": {},
   "source": [
    "<a id='diff'></a>\n",
    "\n",
    "## Step 1.a: Differentiation \\[Back to [top](#toc)\\]\n",
    "$$\\label{diff}$$\n",
    "\n",
    "(I'm not sure what the best way to break this up would be. It's a rather integral part to the entire process (the extraction that is) so I'm confident in keeping step 1 here but piecing out what to go over is something to think about.)"
   ]
  },
  {
   "cell_type": "markdown",
   "id": "5ea0e0b4",
   "metadata": {},
   "source": [
    "<a id='fft'></a>\n",
    "\n",
    "## Step 1.b: Fast Fourier Transform \\[Back to [top](#toc)\\]\n",
    "$$\\label{fft}$$\n",
    "\n",
    "(Even if we don't use this, I figured I'd get the formatting out of the way in case.)"
   ]
  },
  {
   "cell_type": "markdown",
   "id": "34c53285",
   "metadata": {},
   "source": [
    "<a id='fft'></a>\n",
    "\n",
    "# Step 2: Generate gravitational wave mesh \\[Back to [top](#toc)\\]\n",
    "$$\\label{mesh_gen}$$\n",
    "\n",
    "Now that the gravitational wave strain has been extracted, it can be used in conjunction with [Spin Weighted Spherical Harmonics](https://demonstrations.wolfram.com/SpinWeightedSphericalHarmonics/) to calculate and create a manifold-like mesh for each time state. This step is achieved using the VTK python library to generate an unstructured mesh of points which can be visualized as a 2D surface in VisIt. \n",
    "\n",
    "<!-- more or less info? Either way, dive in... -->"
   ]
  },
  {
   "cell_type": "markdown",
   "id": "135f7c79",
   "metadata": {},
   "source": [
    "<a id='sync'></a>\n",
    "\n",
    "# Step 3: Synchronize mesh states with black hole trajectories \\[Back to [top](#toc)\\]\n",
    "$$\\label{sync}$$\n",
    "\n",
    "Before directly reading gravitational wave meshes into VisIt, the mesh time steps must first be synchronized with the time steps of the constituent black hole trajectories <!-- too wordy? -->. \n",
    "\n",
    "(Joey will have to explain more to me about his methods before I can work on this section.)"
   ]
  },
  {
   "cell_type": "markdown",
   "id": "93630599",
   "metadata": {},
   "source": [
    "<a id='animate'></a>\n",
    "\n",
    "# Step 4: Animate gravitational wave meshes and black holes \\[Back to [top](#toc)\\]\n",
    "$$\\label{animate}$$\n",
    "\n",
    "Finally, with all the necessary data processed, VisIt can be used through python to render each step time step. Once each frame is saved to a folder, FFMPEG is used to generate an MP4. As a preliminary note, VisIt can be picky with attribute parameters, in which case this notebook might provide some insight <!-- link to section of util/troubleshooting script on VisIt problems -->.\n"
   ]
  },
  {
   "cell_type": "markdown",
   "id": "7b00a111",
   "metadata": {},
   "source": [
    "<a id='render'></a>\n",
    "\n",
    "## Step 4.a: Render meshes and black holes\\[Back to [top](#toc)\\]\n",
    "$$\\label{render}$$ <!-- it just occured to me that the black holes will also be meshes ergo is this too ambiguous?-->\n",
    "(Initial loadin. For this I'd like to only load in from a specific time step. Ideally at this point we've only generated a few meshes for the waves around merger time just for the sake of concision)"
   ]
  },
  {
   "cell_type": "markdown",
   "id": "ee64b3c1",
   "metadata": {},
   "source": [
    "<a id='pan'></a>\n",
    "\n",
    "## Step 4.b: Pan camera \\[Back to [top](#toc)\\]\n",
    "$$\\label{pan}$$\n",
    "\n",
    "(as I mentioned in the comment on TOC, this step might be better omitted)"
   ]
  },
  {
   "cell_type": "markdown",
   "id": "0dd93f28",
   "metadata": {},
   "source": [
    "<a id='ffmpeg'></a>\n",
    "\n",
    "## Step 4.c:  Compile frames with FFMPEG \\[Back to [top](#toc)\\]\n",
    "$$\\label{ffmpeg}$$\n",
    "\n",
    "Lastly, with the following simple command, each frame generated by VisIt is compiled into a tidy MP4 video. "
   ]
  },
  {
   "cell_type": "markdown",
   "id": "793123de",
   "metadata": {},
   "source": [
    "<a id='conclusion'></a>\n",
    "\n",
    "# Step 5: Conclusion \\[Back to [top](#toc)\\]\n",
    "$$\\label{conclusion}$$\n",
    "\n",
    "(overview of what we did)\n",
    "\n",
    "#### Reference and continued reading:\n",
    "(through some sources and neat stuff here)"
   ]
  },
  {
   "cell_type": "markdown",
   "id": "218ab526",
   "metadata": {},
   "source": [
    "<a id='latex_pdf_output'></a>\n",
    "\n",
    "# Step 6: Output this notebook to $\\LaTeX$-formatted PDF file \\[Back to [top](#toc)\\]\n",
    "$$\\label{latex_pdf_output}$$\n",
    "\n",
    "The following code cell converts this Jupyter notebook into a proper, clickable $\\LaTeX$-formatted PDF file. After the cell is successfully run, the generated PDF may be found in the root NRPy+ tutorial directory, with filename\n",
    "[Tutorial-Start_to_Finish-Psi4_to_mp4.pdf](Tutorial-Start_to_Finish-Psi4_to_mp4.pdf). (Note that clicking on this link may not work; you may need to open the PDF file through another means.)\n",
    "\n",
    "(quick note, we might not even need this, figured I'd put it in here for now. It will require the necessary tools from nrpy)"
   ]
  },
  {
   "cell_type": "code",
   "execution_count": 1,
   "id": "d66210a7",
   "metadata": {},
   "outputs": [
    {
     "ename": "ModuleNotFoundError",
     "evalue": "No module named 'cmdline_helper'",
     "output_type": "error",
     "traceback": [
      "\u001b[0;31m---------------------------------------------------------------------------\u001b[0m",
      "\u001b[0;31mModuleNotFoundError\u001b[0m                       Traceback (most recent call last)",
      "Input \u001b[0;32mIn [1]\u001b[0m, in \u001b[0;36m<cell line: 1>\u001b[0;34m()\u001b[0m\n\u001b[0;32m----> 1\u001b[0m \u001b[38;5;28;01mimport\u001b[39;00m \u001b[38;5;21;01mcmdline_helper\u001b[39;00m \u001b[38;5;28;01mas\u001b[39;00m \u001b[38;5;21;01mcmd\u001b[39;00m    \u001b[38;5;66;03m# NRPy+: Multi-platform Python command-line interface\u001b[39;00m\n\u001b[1;32m      2\u001b[0m cmd\u001b[38;5;241m.\u001b[39moutput_Jupyter_notebook_to_LaTeXed_PDF(\u001b[38;5;124m\"\u001b[39m\u001b[38;5;124mTutorial-Start_to_Finish-Psi4_to_mp4\u001b[39m\u001b[38;5;124m\"\u001b[39m)\n",
      "\u001b[0;31mModuleNotFoundError\u001b[0m: No module named 'cmdline_helper'"
     ]
    }
   ],
   "source": [
    "import cmdline_helper as cmd    # NRPy+: Multi-platform Python command-line interface\n",
    "cmd.output_Jupyter_notebook_to_LaTeXed_PDF(\"Tutorial-Start_to_Finish-Psi4_to_mp4\")"
   ]
  }
 ],
 "metadata": {
  "kernelspec": {
   "display_name": "Python 3 (ipykernel)",
   "language": "python",
   "name": "python3"
  },
  "language_info": {
   "codemirror_mode": {
    "name": "ipython",
    "version": 3
   },
   "file_extension": ".py",
   "mimetype": "text/x-python",
   "name": "python",
   "nbconvert_exporter": "python",
   "pygments_lexer": "ipython3",
   "version": "3.9.13"
  }
 },
 "nbformat": 4,
 "nbformat_minor": 5
}
