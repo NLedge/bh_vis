{
 "cells": [
  {
   "cell_type": "markdown",
   "id": "520265f4",
   "metadata": {},
   "source": [
    "# Black Holes At Home Tutorial: Psi4 to Mesh\n",
    "\n",
    "## Author: Tyndale Stutzman, Joey Perko, Seth Winchell\n",
    "\n",
    "## This tutorial demonstrates how to extrapolate xyz mesh data from psi4 data\n",
    "\n",
    "## Introduction: \n",
    "\n",
    "The purpose of this notebook is to outline and demonstrate the process of converting psi4 data into a folder of time dependent `.vtk` mesh files. It is important for the psi4 data to be extrapolated to time dependent xyz in order to generate a mesh from spherical or catesian coordinates in either two or three dimentions. Once a Fast Fourier Transform (FFT) has been applied to psi4, yielding strain against time, several different directions can be taken. This notebook examines the use of  FFT in conjunction with spherical harmonics and a time interpolation to produce a time dependent mesh ranging from radius 100 to 2000. The following steps were used:"
   ]
  },
  {
   "cell_type": "markdown",
   "id": "dacb422e",
   "metadata": {},
   "source": [
    "<a id='toc'></a>\n",
    "# Table of Contents:\n",
    "$$\\label{toc}$$\n",
    "<!--these buttons aren't functioning properly so maybe figure that out-->\n",
    "1. [Step 1](#maths): Mathematical Background\n",
    "    - A: Fast Fourier Transform\n",
    "    - B: \n",
    "1. [Step 2](#strain): Psi4 to Strain\n",
    "    - A: Compute first and second time derivatives\n",
    "    - B: Calculate phase and amplitude\n",
    "    - C: Perform complex FFT <br><br>\n",
    "1. [Step 3](#plot): Validate Strain Against Time\n",
    "1. [Step 4](#inter): Compute Strain with Spherical Harmonics\n",
    "    - A: Create time interpolation\n",
    "    - B: Calculate theta and phi\n",
    "    - C:\n",
    "    - D:\n",
    "    "
   ]
  },
  {
   "cell_type": "markdown",
   "id": "aa7b9b3e",
   "metadata": {},
   "source": [
    "<a id='strain'></a>\n",
    "# Step 1: Psi4 to Strain \\[Back to [top](#toc)\\]\n",
    "$$\\label{strain}$$\n",
    "\n",
    "In this first step, a file with eleven columns is given, containing the modes of $l=2$ and ranging from $m=-2$ to $m=2$, each with a real and imaginary part and finally a single column for time. "
   ]
  },
  {
   "cell_type": "markdown",
   "id": "561907f6",
   "metadata": {},
   "source": [
    "<a id='plot'></a>\n",
    "# Step 2: Validate Strain Against Time \\[Back to [top](#toc)\\]\n",
    "$$\\label{plot}$$\n",
    "[]\n",
    "Now that our strain data has been generated, we can verify whether or not \\[[Step 1](#strain)\\] worked properly by plotting strain against time use matplotlib. The plot should indicate that, as time increases, the amplitude of the gravitational waves increases while the phase decreases, ultimately reaching a peak and then quickly going to zero. The following python script was used to verify this. "
   ]
  },
  {
   "cell_type": "code",
   "execution_count": null,
   "id": "fb7980c7",
   "metadata": {},
   "outputs": [],
   "source": [
    "import matplotlib.pyplot as plt\n",
    "\n",
    "# Gravitational wave strain data and time values\n",
    "strain = # directory\n",
    "time = # directory\n",
    "\n",
    "# Create a line plot of strain data against time\n",
    "plt.plot(time, strain)\n",
    "\n",
    "# Set the title and axis labels\n",
    "plt.title(\"Gravitational Wave Strain vs. Time\")\n",
    "plt.xlabel(\"Time (s)\")\n",
    "plt.ylabel(\"Strain\")\n",
    "\n",
    "# Show the plot\n",
    "plt.show()"
   ]
  },
  {
   "cell_type": "markdown",
   "id": "958a19cd",
   "metadata": {},
   "source": [
    "<a id='inter'></a>\n",
    "# Step 3: Compute Strain with Spherical Harmonics \\[Back to [top](#toc)\\]\n",
    "$$\\label{inter}$$\n",
    "\n",
    "Once the strain data has been validated, it can be multiplied by the spherical harmonic to give the gravitation wave strain at any time for any given coordinate <!-- fact check this... still a little fuzzy -->. "
   ]
  },
  {
   "cell_type": "markdown",
   "id": "9a7b9386",
   "metadata": {},
   "source": [
    "### A. Create Time Interpolation \n",
    "\n",
    "Since the data is sampled over intervals of `n` seconds, the algorithm needs a way to compute strain at any given time, therefore an interpolation is used. "
   ]
  }
 ],
 "metadata": {
  "kernelspec": {
   "display_name": "Python 3 (ipykernel)",
   "language": "python",
   "name": "python3"
  },
  "language_info": {
   "codemirror_mode": {
    "name": "ipython",
    "version": 3
   },
   "file_extension": ".py",
   "mimetype": "text/x-python",
   "name": "python",
   "nbconvert_exporter": "python",
   "pygments_lexer": "ipython3",
   "version": "3.7.7"
  }
 },
 "nbformat": 4,
 "nbformat_minor": 5
}
